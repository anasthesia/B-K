{
 "cells": [
  {
   "cell_type": "code",
   "execution_count": 1,
   "metadata": {},
   "outputs": [],
   "source": [
    "import glob\n",
    "import matplotlib as mlib\n",
    "import matplotlib.pyplot as plt\n",
    "import numpy as np\n",
    "from numpy.core.defchararray import add\n",
    "from numpy import genfromtxt\n",
    "from numpy import loadtxt\n",
    "import re\n",
    "import csv\n",
    "import matplotlib.colors as mcolors\n",
    "import matplotlib.cm as cm\n",
    "import matplotlib.patches as mpatches"
   ]
  },
  {
   "cell_type": "code",
   "execution_count": 2,
   "metadata": {},
   "outputs": [],
   "source": [
    "#Plotting settings\n",
    "font = {\n",
    "        'weight' : 'normal',\n",
    "        'size'   : 16}\n",
    "\n",
    "mlib.rc('font', **font)"
   ]
  },
  {
   "cell_type": "markdown",
   "metadata": {},
   "source": [
    "# Generating parameter points with respect to Ruth's approximate curve"
   ]
  },
  {
   "cell_type": "code",
   "execution_count": 3,
   "metadata": {},
   "outputs": [],
   "source": [
    "# Defining the function that creates points with a shift in alpha (vertical) direction\n",
    "def pointsFromApprox(inputfile, outputfile, alphaShift):\n",
    "    approxPoints = np.array(genfromtxt(inputfile))\n",
    "    approxPoints[:,1] += alphaShift\n",
    "    with open(outputfile, 'w+') as fout:\n",
    "        fout.write(\"#m(phi) [GeV]\\talpha\\n\")\n",
    "        np.savetxt(fout, approxPoints, fmt='%7f')"
   ]
  },
  {
   "cell_type": "code",
   "execution_count": 4,
   "metadata": {},
   "outputs": [],
   "source": [
    "# Applying to the shifts of our chice\n",
    "shifts=[10**(-4),-10**(-4)]\n",
    "#print(shifts.shape)\n",
    "for shiftnum, shift in enumerate(shifts):\n",
    "    pointsFromApprox(\"m-alpha_points/B-K_exclusion_Ruth.dat\",\"m-alpha_points/B-K_new_{}.dat\".format(shiftnum),\\\n",
    "                     shift)"
   ]
  },
  {
   "cell_type": "markdown",
   "metadata": {},
   "source": [
    "# Plotting the exclusion scatter plot"
   ]
  },
  {
   "cell_type": "code",
   "execution_count": null,
   "metadata": {},
   "outputs": [],
   "source": [
    "# function to plot the allowed/excluded points\n",
    "def plotAllowed(inputfile)"
   ]
  }
 ],
 "metadata": {
  "kernelspec": {
   "display_name": "Python 3",
   "language": "python",
   "name": "python3"
  },
  "language_info": {
   "codemirror_mode": {
    "name": "ipython",
    "version": 3
   },
   "file_extension": ".py",
   "mimetype": "text/x-python",
   "name": "python",
   "nbconvert_exporter": "python",
   "pygments_lexer": "ipython3",
   "version": "3.7.4"
  }
 },
 "nbformat": 4,
 "nbformat_minor": 2
}
