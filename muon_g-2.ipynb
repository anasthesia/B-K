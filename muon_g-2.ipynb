{
 "cells": [
  {
   "cell_type": "code",
   "execution_count": 1,
   "metadata": {},
   "outputs": [],
   "source": [
    "import glob\n",
    "import matplotlib as mlib\n",
    "import matplotlib.pyplot as plt\n",
    "import numpy as np\n",
    "from numpy.core.defchararray import add\n",
    "from numpy import genfromtxt\n",
    "from numpy import loadtxt\n",
    "import re\n",
    "import csv\n",
    "import matplotlib.colors as mcolors\n",
    "import matplotlib.cm as cm\n",
    "import matplotlib.patches as mpatches"
   ]
  },
  {
   "cell_type": "code",
   "execution_count": 96,
   "metadata": {},
   "outputs": [],
   "source": [
    "#Plotting settings\n",
    "font = {\n",
    "        'weight' : 'normal',\n",
    "        'size'   : 16}\n",
    "\n",
    "mlib.rc('font', **font)"
   ]
  },
  {
   "cell_type": "code",
   "execution_count": 99,
   "metadata": {},
   "outputs": [],
   "source": [
    "#constants\n",
    "v=246\n",
    "mmu=105*10**(-3)#MeV\n",
    "\n",
    "dAmuExp1=[(287-80)*10**(-11),(287+80)*10**(-11)]\n",
    "dAmuExp2=[(261-78)*10**(-11),(261+78)*10**(-11)]"
   ]
  },
  {
   "cell_type": "code",
   "execution_count": 115,
   "metadata": {},
   "outputs": [
    {
     "data": {
      "text/plain": [
       "0.5833333333333334"
      ]
     },
     "execution_count": 115,
     "metadata": {},
     "output_type": "execute_result"
    }
   ],
   "source": [
    "7/12"
   ]
  },
  {
   "cell_type": "code",
   "execution_count": 100,
   "metadata": {},
   "outputs": [],
   "source": [
    "def mugMinus2(mmmu, mphi, alpha, deltaAmuExp):\n",
    "    deltaAmu=(1/(4*np.pi**2))*(mmu/mphi)**(2)*(mmu*np.sin(alpha)/v)**2*(-7/12-np.log(mmu/mphi))\n",
    "    return [mphi, alpha, deltaAmu-deltaAmuExp]\n",
    "    "
   ]
  },
  {
   "cell_type": "code",
   "execution_count": 101,
   "metadata": {},
   "outputs": [],
   "source": [
    "def plotAllowed(mphiArr, alphaArr, deltaAmuExp):\n",
    "    params=[]\n",
    "    \n",
    "    for mphi in mphiArr:\n",
    "        for alpha in alphaArr:\n",
    "            params.append(mugMinus2(mmu,mphi,alpha,deltaAmuExp))\n",
    "    params=np.array(params)\n",
    "\n",
    "    plt.scatter(params[params[:,2]<0,0], params[params[:,2]<0,1], c='green')\n",
    "    plt.scatter(params[params[:,2]>0,0], params[params[:,2]>0,0], c='red')\n"
   ]
  },
  {
   "cell_type": "code",
   "execution_count": 105,
   "metadata": {},
   "outputs": [
    {
     "data": {
      "text/plain": [
       "[3, 1.5707963267948966, -3.3743462180637866e-09]"
      ]
     },
     "execution_count": 105,
     "metadata": {},
     "output_type": "execute_result"
    }
   ],
   "source": [
    "mugMinus2(mmu,3,np.pi/2,dAmuExp2[1])"
   ]
  },
  {
   "cell_type": "code",
   "execution_count": 112,
   "metadata": {},
   "outputs": [
    {
     "data": {
      "image/png": "[encoded data removed]",
      "text/plain": [
       "<Figure size 648x504 with 1 Axes>"
      ]
     },
     "metadata": {},
     "output_type": "display_data"
    }
   ],
   "source": [
    "fig=plt.figure(figsize=(9, 7))\n",
    "mphiArr=np.linspace(0.3,4.7,100)\n",
    "alphaArr=np.linspace(10**(-5),1*10**(-1),100)\n",
    "\n",
    "plotAllowed(mphiArr,alphaArr,dAmuExp2[0])"
   ]
  },
  {
   "cell_type": "code",
   "execution_count": 113,
   "metadata": {},
   "outputs": [
    {
     "data": {
      "image/png": "[encoded data removed]",
      "text/plain": [
       "<Figure size 648x504 with 1 Axes>"
      ]
     },
     "metadata": {},
     "output_type": "display_data"
    }
   ],
   "source": [
    "fig=plt.figure(figsize=(9, 7))\n",
    "mphiArr=np.linspace(0.3,4.7,100)\n",
    "alphaArr=np.linspace(10**(-5),1*10**(1),100)\n",
    "\n",
    "plotAllowed(mphiArr,alphaArr,dAmuExp1[1])"
   ]
  },
  {
   "cell_type": "code",
   "execution_count": null,
   "metadata": {},
   "outputs": [],
   "source": []
  }
 ],
 "metadata": {
  "kernelspec": {
   "display_name": "Python 3",
   "language": "python",
   "name": "python3"
  },
  "language_info": {
   "codemirror_mode": {
    "name": "ipython",
    "version": 3
   },
   "file_extension": ".py",
   "mimetype": "text/x-python",
   "name": "python",
   "nbconvert_exporter": "python",
   "pygments_lexer": "ipython3",
   "version": "3.6.4"
  }
 },
 "nbformat": 4,
 "nbformat_minor": 2
}
