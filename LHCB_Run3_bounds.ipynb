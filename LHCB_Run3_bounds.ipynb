{
 "cells": [
  {
   "cell_type": "code",
   "execution_count": 10,
   "metadata": {},
   "outputs": [],
   "source": [
    "import glob\n",
    "import matplotlib as mlib\n",
    "import matplotlib.pyplot as plt\n",
    "import numpy as np\n",
    "from numpy.core.defchararray import add\n",
    "from numpy import genfromtxt\n",
    "from numpy import loadtxt\n",
    "import re\n",
    "import csv\n",
    "import matplotlib.colors as mcolors\n",
    "import matplotlib.cm as cm\n",
    "import matplotlib.patches as mpatches"
   ]
  },
  {
   "cell_type": "code",
   "execution_count": 11,
   "metadata": {},
   "outputs": [],
   "source": [
    "#Plotting settings\n",
    "font = {\n",
    "        'weight' : 'normal',\n",
    "        'size'   : 16}\n",
    "\n",
    "mlib.rc('font', **font)"
   ]
  },
  {
   "cell_type": "markdown",
   "metadata": {},
   "source": [
    "Assumption of no bkg for the lower exclusion bound (since tau>10 pc there), so the experimental sensitivity behaves as BR(new)=BR(old)/R, where R>1 defines the luminocity ratio betbeen 8TeV and 13TeV runs, R=162.2 ([1909.08632])"
   ]
  },
  {
   "cell_type": "code",
   "execution_count": 12,
   "metadata": {},
   "outputs": [],
   "source": [
    "Rfactor=162.2"
   ]
  },
  {
   "cell_type": "markdown",
   "metadata": {},
   "source": [
    "# Generating parameter points with respect to Ruth's approximate curve"
   ]
  },
  {
   "cell_type": "code",
   "execution_count": 13,
   "metadata": {},
   "outputs": [],
   "source": [
    "# Defining the function that creates points with a shift in alpha (vertical) direction\n",
    "def pointsFromApprox(inputfile, outputfile, alphaShift, massShift):\n",
    "    approxPoints = np.array(genfromtxt(inputfile))\n",
    "    approxPoints[:,1] += alphaShift\n",
    "    approxPoints[:,0] += massShift\n",
    "    with open(outputfile, 'w+') as fout:\n",
    "        fout.write(\"#m(phi) [GeV]\\talpha\\n\")\n",
    "        np.savetxt(fout, approxPoints, fmt='%7f')"
   ]
  },
  {
   "cell_type": "code",
   "execution_count": 14,
   "metadata": {},
   "outputs": [],
   "source": [
    "# Applying to the shifts of our choice\n",
    "#alphaShifts=[0.2*10**(-4),-0.2*10**(-4),-1.2*10**(-4),-1.5*10**(-4),-2*10**(-4)]\n",
    "alphaShifts=[10**(-4),1.5*10**(-4),2*10**(-4),2.5*10**(-4),3*10**(-4)]\n",
    "massShifts=[0,-0.2,-0.5,-1,0.2,0.5,1]\n",
    "#print(shifts.shape)\n",
    "for ashift in alphaShifts:\n",
    "    for mshift in massShifts:\n",
    "        pointsFromApprox(\"m-alpha_points/B-K_exclusion_Ruth.dat\",\"m-alpha_points/B-K_new_alpha{a}_m{b}.dat\"\\\n",
    "                     .format(a=ashift,b=mshift),ashift,mshift)"
   ]
  },
  {
   "cell_type": "code",
   "execution_count": 15,
   "metadata": {
    "scrolled": false
   },
   "outputs": [],
   "source": [
    "#Adding a region manually\n",
    "\n",
    "x = np.linspace(0.2, 5, 50)\n",
    "y = np.linspace(2*10**(-4),1*10**(-2), 300)\n",
    "xv, yv = np.meshgrid(x, y)\n",
    "\n",
    "outputfile=\"m-alpha_points/grid_0.2-5_2e-4-e-2.dat\"\n",
    "\n",
    "with open(outputfile, 'w+') as fout:\n",
    "    fout.write(\"#m(phi) [GeV]\\talpha\\n\")\n",
    "    np.savetxt(fout, np.transpose([xv.flatten(),yv.flatten()]), fmt='%7f')"
   ]
  },
  {
   "cell_type": "markdown",
   "metadata": {},
   "source": [
    "# Plotting the exclusion scatter plot"
   ]
  },
  {
   "cell_type": "code",
   "execution_count": 16,
   "metadata": {},
   "outputs": [],
   "source": [
    "# general plotting function\n",
    "def plotGen(inputfile, lineScatterOrFill, color, linewidthORmarkersize):\n",
    "    data = np.array(genfromtxt(inputfile,  comments=\"#\", delimiter='\\t'))\n",
    "    data=data[np.argsort(data[:, 0])]\n",
    "    \n",
    "    if (lineScatterOrFill==\"line\"):\n",
    "        plt.plot(data[:,0],data[:,1],c=color,linewidth=linewidthORmarkersize)\n",
    "    if (lineScatterOrFill==\"scatter\"):\n",
    "        plt.plot(data[:,0],data[:,1],c=color,s=linewidthORmarkersize)\n",
    "    if (lineScatterOrFill==\"fill\"):\n",
    "        plt.fill_between(data[:,0],data[:,1],10**(-2),color=color,linewidth=linewidthORmarkersize,alpha=0.5)\n",
    "\n",
    "#Plot all the data in folder\n",
    "def plotFromFolder(folder,iftoreverse,lineScatterOrFill,colorMAP,width):\n",
    "    colormap=colorMAP\n",
    "    \n",
    "    #reading files with histos info (reverse fuction changes the order of the files)\n",
    "    files = sorted(glob.glob( folder+'/*.dat'),reverse=iftoreverse)\n",
    "    #print(files)\n",
    "    \n",
    "    normalize = mcolors.Normalize(0, len(files))\n",
    "    \n",
    "    global usedcolors\n",
    "    usedcolors=[]\n",
    "    for filenum, file in enumerate(files):\n",
    "        print(file)\n",
    "        \n",
    "        plotGen(file,lineScatterOrFill,colormap(normalize(filenum)),width)\n",
    "        \n",
    "        usedcolors.append(colormap(normalize(filenum)))\n",
    "    #print(usedcolors)\n",
    "    \n",
    "# function to plot the allowed/excluded points\n",
    "def plotAllowed(inputfile):\n",
    "    params = np.array(genfromtxt(inputfile,  comments=\"#\", delimiter='\\t'))\n",
    "    allowed=params[:,5]==1\n",
    "    #print(params[allowed][0])\n",
    "    #print(params[~allowed][0])\n",
    "\n",
    "    plt.scatter(params[allowed,0], params[allowed,1], c='green')\n",
    "    plt.scatter(params[~allowed,0], params[~allowed,1], c='red')\n",
    "    \n",
    "# function that plots cut-out regions from 1612.07818\n",
    "\n",
    "def whiteregions(m):\n",
    "    return np.heaviside(m - 0.25,0)*np.heaviside(-m + 0.4,0) + np.heaviside(m - 0.5,0)*np.heaviside(-m + 2.9,0)\\\n",
    "    + np.heaviside(m - 3.2,0)*np.heaviside(-m + 3.6,0) + np.heaviside(m - 3.9,0)*np.heaviside(-m + 4.7,0)\n",
    "\n",
    "def plotWhiteRegions(yupper):\n",
    "    m=np.linspace(0.2,5,num=100);\n",
    "    plt.fill_between(m,whiteregions(m),yupper,color=\"white\",zorder=4)\n"
   ]
  },
  {
   "cell_type": "markdown",
   "metadata": {},
   "source": [
    "# Br(phi -> inv)=0"
   ]
  },
  {
   "cell_type": "code",
   "execution_count": 18,
   "metadata": {
    "scrolled": false
   },
   "outputs": [
    {
     "data": {
      "image/png": "[encoded data removed]",
      "text/plain": [
       "<Figure size 648x504 with 1 Axes>"
      ]
     },
     "metadata": {
      "needs_background": "light"
     },
     "output_type": "display_data"
    }
   ],
   "source": [
    "#Plotting for the parameters studied\n",
    "plt.figure(figsize=(9, 7))\n",
    "\n",
    "#Ruth'sexclusion \n",
    "\"\"\"\n",
    "approxExcl=np.array(genfromtxt(\"m-alpha_points/B-K_exclusion_Ruth.dat\",  comments=\"#\", delimiter='\\t'))\n",
    "#print(approxExcl)\n",
    "plt.plot(approxExcl[:,0], approxExcl[:,1], c='grey')\n",
    "\"\"\"\n",
    "plotGen(\"m-alpha_points/B-K_exclusion_Ruth.dat\",\"line\",\"grey\",2)\n",
    "plotWhiteRegions(10**(-2))\n",
    "\n",
    "files = sorted(glob.glob( \"Experimental_files/output_combined_BR_0_R162.2/*.dat\"))\n",
    "for file in files:\n",
    "    #print(file)\n",
    "    plotAllowed(file)\n",
    "\n",
    "\n",
    "plt.xlim( (0.3, 5))\n",
    "plt.ylim((10**(-6),1*10**(-3)))\n",
    "\n",
    "plt.yscale(\"log\")\n",
    "\n",
    "#plt.title(''.format(i))\n",
    "plt.xlabel('$m_\\\\phi$ [GeV]')\n",
    "plt.ylabel('$\\\\alpha$')\n",
    "\n",
    "plt.savefig('./results/m-alpha_scans_BR_0_R162.2.png')"
   ]
  },
  {
   "cell_type": "code",
   "execution_count": null,
   "metadata": {},
   "outputs": [],
   "source": []
  }
 ],
 "metadata": {
  "kernelspec": {
   "display_name": "Python 3",
   "language": "python",
   "name": "python3"
  },
  "language_info": {
   "codemirror_mode": {
    "name": "ipython",
    "version": 3
   },
   "file_extension": ".py",
   "mimetype": "text/x-python",
   "name": "python",
   "nbconvert_exporter": "python",
   "pygments_lexer": "ipython3",
   "version": "3.7.4"
  }
 },
 "nbformat": 4,
 "nbformat_minor": 2
}
